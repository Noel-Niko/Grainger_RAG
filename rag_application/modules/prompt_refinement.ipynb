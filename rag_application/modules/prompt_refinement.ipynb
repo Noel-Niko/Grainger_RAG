{
 "cells": [
  {
   "metadata": {
    "ExecuteTime": {
     "end_time": "2024-06-21T13:11:43.696930Z",
     "start_time": "2024-06-21T13:11:43.684692Z"
    }
   },
   "cell_type": "code",
   "source": [
    "import nltk\n",
    "from nltk.corpus import stopwords\n",
    "from nltk.tokenize import word_tokenize\n",
    "import re\n",
    "\n",
    "nltk.download('punkt')\n",
    "nltk.download('averaged_perceptron_tagger')\n",
    "nltk.download('stopwords')\n",
    "\n",
    "def refine_question(question):\n",
    "    # Define a regular expression to detect product IDs (e.g., B07XYDG2R2)\n",
    "    product_id_pattern = r'\\b[A-Z0-9]{10}\\b'\n",
    "    \n",
    "    # Check if the question contains a product ID\n",
    "    product_id_match = re.search(product_id_pattern, question)\n",
    "    \n",
    "    if product_id_match:\n",
    "        # If a product ID is found, return it\n",
    "        return product_id_match.group(0)\n",
    "    \n",
    "    # Tokenize the question\n",
    "    words = word_tokenize(question)\n",
    "    \n",
    "    # Perform POS tagging\n",
    "    pos_tags = nltk.pos_tag(words)\n",
    "    \n",
    "    # List of words to exclude, converted to lowercase for case-insensitive comparison\n",
    "    exclude_words = {word.lower() for word in ['provide', 'details', 'about', 'tell', 'me', 'for', 'looking', 'what', 'is', 'the', 'product', 'id']}\n",
    "    \n",
    "    # Define relevant POS tags\n",
    "    relevant_pos = {'NN', 'NNS', 'JJ', 'NNP', 'NNPS'}\n",
    "    \n",
    "    # Extract relevant words based on POS tags, excluding specific terms, and maintain original order\n",
    "    keywords = [word for word, pos in pos_tags if pos in relevant_pos and word.lower() not in exclude_words]\n",
    "    \n",
    "    # If no keywords were found, return the original question\n",
    "    if not keywords:\n",
    "        return question\n",
    "    \n",
    "    # Join keywords to form the refined query\n",
    "    refined_question = ' '.join(keywords)\n",
    "    \n",
    "    return refined_question\n",
    "\n",
    "# Example usage\n",
    "question1 = \"Provide details about B07XYDG2R2\"\n",
    "question2 = \"Tell me about the bioworld grinch big face embroid winter hat green\"\n",
    "question3 = \"Looking for a winter hat with Grinch embroidery\"\n",
    "question4 = \"What is the product id for Heirloom Cloth Ladies Tank Top\"\n",
    "\n",
    "print(refine_question(question1))  # Should return: B07XYDG2R2\n",
    "print(refine_question(question2))  # Should return: bioworld grinch big face embroid winter hat green\n",
    "print(refine_question(question3))  # Should now correctly return: winter hat Grinch embroidery\n",
    "print(refine_question(question4))  # Should return: Heirloom Cloth Ladies Tank Top\n"
   ],
   "id": "cd27d072fb1523d8",
   "outputs": [
    {
     "name": "stdout",
     "output_type": "stream",
     "text": [
      "B07XYDG2R2\n",
      "bioworld grinch big face winter hat green\n",
      "winter hat Grinch embroidery\n",
      "Heirloom Cloth Ladies Tank Top\n"
     ]
    },
    {
     "name": "stderr",
     "output_type": "stream",
     "text": [
      "[nltk_data] Downloading package punkt to /Users/noel_niko/nltk_data...\n",
      "[nltk_data]   Package punkt is already up-to-date!\n",
      "[nltk_data] Downloading package averaged_perceptron_tagger to\n",
      "[nltk_data]     /Users/noel_niko/nltk_data...\n",
      "[nltk_data]   Package averaged_perceptron_tagger is already up-to-\n",
      "[nltk_data]       date!\n",
      "[nltk_data] Downloading package stopwords to\n",
      "[nltk_data]     /Users/noel_niko/nltk_data...\n",
      "[nltk_data]   Package stopwords is already up-to-date!\n"
     ]
    }
   ],
   "execution_count": 39
  },
  {
   "metadata": {
    "ExecuteTime": {
     "end_time": "2024-06-21T13:12:15.516206Z",
     "start_time": "2024-06-21T13:12:15.511193Z"
    }
   },
   "cell_type": "code",
   "source": "print(refine_question(\"Looking for a winter hat with Grinch embroidery\")) ",
   "id": "4db2b59689579ebe",
   "outputs": [
    {
     "name": "stdout",
     "output_type": "stream",
     "text": [
      "winter hat Grinch embroidery\n"
     ]
    }
   ],
   "execution_count": 40
  },
  {
   "metadata": {
    "ExecuteTime": {
     "end_time": "2024-06-21T13:12:19.772522Z",
     "start_time": "2024-06-21T13:12:19.767744Z"
    }
   },
   "cell_type": "code",
   "source": "print(refine_question(\"What is the product id for Heirloom Cloth Ladies Tank Top\"))",
   "id": "f6c06c6d142b41ad",
   "outputs": [
    {
     "name": "stdout",
     "output_type": "stream",
     "text": [
      "Heirloom Cloth Ladies Tank Top\n"
     ]
    }
   ],
   "execution_count": 41
  },
  {
   "metadata": {},
   "cell_type": "code",
   "outputs": [],
   "execution_count": null,
   "source": "",
   "id": "cfa3b8ae3b71459"
  }
 ],
 "metadata": {
  "kernelspec": {
   "display_name": "Python 3",
   "language": "python",
   "name": "python3"
  },
  "language_info": {
   "codemirror_mode": {
    "name": "ipython",
    "version": 2
   },
   "file_extension": ".py",
   "mimetype": "text/x-python",
   "name": "python",
   "nbconvert_exporter": "python",
   "pygments_lexer": "ipython2",
   "version": "2.7.6"
  }
 },
 "nbformat": 4,
 "nbformat_minor": 5
}
