{
 "cells": [
  {
   "metadata": {},
   "cell_type": "markdown",
   "source": "",
   "id": "f43d5827325d3f42"
  },
  {
   "metadata": {
    "ExecuteTime": {
     "end_time": "2024-05-29T00:20:16.544998Z",
     "start_time": "2024-05-29T00:19:55.696414Z"
    }
   },
   "cell_type": "code",
   "source": [
    "from preprocess_data import DataPreprocessor\n",
    "\n",
    "preprocessor = DataPreprocessor()\n",
    "preprocessor.preprocess_data()\n",
    "\n",
    "# Run class manually to actually save processed data to file \n"
   ],
   "id": "2cd79a0684cc6011",
   "execution_count": 20,
   "outputs": []
  },
  {
   "metadata": {
    "ExecuteTime": {
     "end_time": "2024-05-29T00:28:47.126693Z",
     "start_time": "2024-05-29T00:28:47.115320Z"
    }
   },
   "cell_type": "code",
   "source": [
    "from vector_index_faiss import VectorIndex\n",
    "\n",
    "vector_index_instance = VectorIndex()\n"
   ],
   "id": "be9f54d341d98abc",
   "execution_count": 24,
   "outputs": []
  },
  {
   "metadata": {
    "ExecuteTime": {
     "end_time": "2024-05-29T00:27:10.483072Z",
     "start_time": "2024-05-29T00:27:10.474062Z"
    }
   },
   "cell_type": "code",
   "source": [
    "\n",
    "first_10_vectors = vector_index_instance.get_all_product_ids\n",
    "print(first_10_vectors)"
   ],
   "id": "6caec4204fbb31d7",
   "execution_count": 23,
   "outputs": []
  },
  {
   "metadata": {},
   "cell_type": "code",
   "execution_count": null,
   "source": "",
   "id": "160d5e5694dc5d60",
   "outputs": []
  }
 ],
 "metadata": {
  "kernelspec": {
   "display_name": "Python 3",
   "language": "python",
   "name": "python3"
  },
  "language_info": {
   "codemirror_mode": {
    "name": "ipython",
    "version": 2
   },
   "file_extension": ".py",
   "mimetype": "text/x-python",
   "name": "python",
   "nbconvert_exporter": "python",
   "pygments_lexer": "ipython2",
   "version": "2.7.6"
  }
 },
 "nbformat": 4,
 "nbformat_minor": 5
}
