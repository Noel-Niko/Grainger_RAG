{
 "cells": [
  {
   "metadata": {},
   "cell_type": "markdown",
   "source": "",
   "id": "f43d5827325d3f42"
  },
  {
   "metadata": {
    "ExecuteTime": {
     "end_time": "2024-05-28T23:55:32.385862Z",
     "start_time": "2024-05-28T23:54:29.457864Z"
    }
   },
   "cell_type": "code",
   "source": [
    "from preprocess_data import DataPreprocessor\n",
    "\n",
    "preprocessor = DataPreprocessor()\n",
    "preprocessor.preprocess_data()\n"
   ],
   "id": "2cd79a0684cc6011",
   "outputs": [
    {
     "name": "stderr",
     "output_type": "stream",
     "text": [
      "2024-05-28 19:54:30,022 - INFO - Starting data preprocessing...\n",
      "2024-05-28 19:54:45,811 - INFO - Loaded DataFrames shapes:\n",
      "2024-05-28 19:54:45,812 - INFO - Examples DataFrame shape: (2621288, 9)\n",
      "2024-05-28 19:54:45,813 - INFO - Products DataFrame shape: (1814924, 7)\n",
      "2024-05-28 19:54:45,814 - INFO - Sources DataFrame shape: (130652, 2)\n"
     ]
    },
    {
     "name": "stdout",
     "output_type": "stream",
     "text": [
      "Examples DataFrame shape: (2621288, 9)\n",
      "Products DataFrame shape: (1814924, 7)\n",
      "Sources DataFrame shape: (130652, 2)\n"
     ]
    },
    {
     "name": "stderr",
     "output_type": "stream",
     "text": [
      "2024-05-28 19:55:11,889 - INFO - Data preprocessing completed successfully.\n",
      "2024-05-28 19:55:32,381 - INFO - Data preprocessing completed successfully.\n"
     ]
    },
    {
     "name": "stdout",
     "output_type": "stream",
     "text": [
      "Data preprocessing completed successfully.\n"
     ]
    }
   ],
   "execution_count": 12
  },
  {
   "metadata": {
    "ExecuteTime": {
     "end_time": "2024-05-28T23:46:38.849412Z",
     "start_time": "2024-05-28T23:46:33.063285Z"
    }
   },
   "cell_type": "code",
   "source": [
    "from vector_index_faiss import VectorIndex\n",
    "\n",
    "vector_index_instance = VectorIndex()"
   ],
   "id": "be9f54d341d98abc",
   "outputs": [
    {
     "name": "stderr",
     "output_type": "stream",
     "text": [
      "2024-05-28 19:46:38,783 - INFO - Loading faiss with AVX2 support.\n",
      "2024-05-28 19:46:38,829 - INFO - Successfully loaded faiss with AVX2 support.\n",
      "2024-05-28 19:46:38,844 - INFO - VectorIndex instance created.\n"
     ]
    },
    {
     "name": "stdout",
     "output_type": "stream",
     "text": [
      "VectorIndex instance created.\n"
     ]
    }
   ],
   "execution_count": 2
  },
  {
   "metadata": {
    "ExecuteTime": {
     "end_time": "2024-05-28T23:52:56.523348Z",
     "start_time": "2024-05-28T23:52:56.519208Z"
    }
   },
   "cell_type": "code",
   "source": [
    "first_10_vectors = vector_index_instance.get_all_product_ids\n",
    "print(first_10_vectors)\n"
   ],
   "id": "6caec4204fbb31d7",
   "outputs": [
    {
     "name": "stdout",
     "output_type": "stream",
     "text": [
      "<bound method VectorIndex.get_all_product_ids of <vector_index_faiss.VectorIndex object at 0x7fc8227548b0>>\n"
     ]
    }
   ],
   "execution_count": 11
  },
  {
   "metadata": {},
   "cell_type": "code",
   "outputs": [],
   "execution_count": null,
   "source": "",
   "id": "160d5e5694dc5d60"
  }
 ],
 "metadata": {
  "kernelspec": {
   "display_name": "Python 3",
   "language": "python",
   "name": "python3"
  },
  "language_info": {
   "codemirror_mode": {
    "name": "ipython",
    "version": 2
   },
   "file_extension": ".py",
   "mimetype": "text/x-python",
   "name": "python",
   "nbconvert_exporter": "python",
   "pygments_lexer": "ipython2",
   "version": "2.7.6"
  }
 },
 "nbformat": 4,
 "nbformat_minor": 5
}
