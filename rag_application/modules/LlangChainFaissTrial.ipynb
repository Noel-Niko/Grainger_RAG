{
 "cells": [
  {
   "metadata": {},
   "cell_type": "markdown",
   "source": "",
   "id": "f43d5827325d3f42"
  },
  {
   "metadata": {
    "ExecuteTime": {
     "end_time": "2024-05-29T00:20:16.544998Z",
     "start_time": "2024-05-29T00:19:55.696414Z"
    }
   },
   "cell_type": "code",
   "source": [
    "from preprocess_data import DataPreprocessor\n",
    "\n",
    "preprocessor = DataPreprocessor()\n",
    "preprocessor.preprocess_data()\n",
    "\n",
    "# Run class manually to actually save processed data to file \n"
   ],
   "id": "2cd79a0684cc6011",
   "outputs": [
    {
     "name": "stderr",
     "output_type": "stream",
     "text": [
      "2024-05-28 20:19:55,974 - INFO - Starting data preprocessing...\n",
      "2024-05-28 20:20:05,859 - INFO - Loaded DataFrames shapes:\n",
      "2024-05-28 20:20:05,860 - INFO - Examples DataFrame shape: (2621288, 9)\n",
      "2024-05-28 20:20:05,860 - INFO - Products DataFrame shape: (1814924, 7)\n",
      "2024-05-28 20:20:05,861 - INFO - Sources DataFrame shape: (130652, 2)\n"
     ]
    },
    {
     "name": "stdout",
     "output_type": "stream",
     "text": [
      "Examples DataFrame shape: (2621288, 9)\n",
      "Products DataFrame shape: (1814924, 7)\n",
      "Sources DataFrame shape: (130652, 2)\n"
     ]
    },
    {
     "name": "stderr",
     "output_type": "stream",
     "text": [
      "2024-05-28 20:20:16,515 - INFO - Data preprocessing completed successfully.\n",
      "2024-05-28 20:20:16,541 - INFO - Data preprocessing completed successfully.\n"
     ]
    },
    {
     "name": "stdout",
     "output_type": "stream",
     "text": [
      "Data preprocessing completed successfully.\n"
     ]
    }
   ],
   "execution_count": 20
  },
  {
   "metadata": {
    "ExecuteTime": {
     "end_time": "2024-05-29T00:28:47.126693Z",
     "start_time": "2024-05-29T00:28:47.115320Z"
    }
   },
   "cell_type": "code",
   "source": [
    "from vector_index_faiss import VectorIndex\n",
    "\n",
    "vector_index_instance = VectorIndex()\n"
   ],
   "id": "be9f54d341d98abc",
   "outputs": [
    {
     "name": "stderr",
     "output_type": "stream",
     "text": [
      "2024-05-28 20:28:47,123 - INFO - VectorIndex instance created.\n"
     ]
    },
    {
     "name": "stdout",
     "output_type": "stream",
     "text": [
      "VectorIndex instance created.\n",
      "<bound method VectorIndex.get_all_product_ids of <vector_index_faiss.VectorIndex object at 0x7fc836796b00>>\n"
     ]
    }
   ],
   "execution_count": 24
  },
  {
   "metadata": {
    "ExecuteTime": {
     "end_time": "2024-05-29T00:27:10.483072Z",
     "start_time": "2024-05-29T00:27:10.474062Z"
    }
   },
   "cell_type": "code",
   "source": [
    "\n",
    "first_10_vectors = vector_index_instance.get_all_product_ids\n",
    "print(first_10_vectors)"
   ],
   "id": "6caec4204fbb31d7",
   "outputs": [
    {
     "name": "stdout",
     "output_type": "stream",
     "text": [
      "<bound method VectorIndex.get_all_product_ids of <vector_index_faiss.VectorIndex object at 0x7fc833945480>>\n"
     ]
    }
   ],
   "execution_count": 23
  },
  {
   "metadata": {},
   "cell_type": "code",
   "outputs": [],
   "execution_count": null,
   "source": "",
   "id": "160d5e5694dc5d60"
  }
 ],
 "metadata": {
  "kernelspec": {
   "display_name": "Python 3",
   "language": "python",
   "name": "python3"
  },
  "language_info": {
   "codemirror_mode": {
    "name": "ipython",
    "version": 2
   },
   "file_extension": ".py",
   "mimetype": "text/x-python",
   "name": "python",
   "nbconvert_exporter": "python",
   "pygments_lexer": "ipython2",
   "version": "2.7.6"
  }
 },
 "nbformat": 4,
 "nbformat_minor": 5
}
