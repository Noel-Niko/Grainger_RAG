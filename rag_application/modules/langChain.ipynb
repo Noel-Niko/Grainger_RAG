{
 "cells": [
  {
   "cell_type": "code",
   "id": "initial_id",
   "metadata": {
    "collapsed": true,
    "ExecuteTime": {
     "end_time": "2024-05-29T03:26:08.857283Z",
     "start_time": "2024-05-29T03:26:04.196771Z"
    }
   },
   "source": [
    "\n",
    "!pip install langchain-openai\n",
    "from langchain_openai import ChatOpenAI\n",
    "# import os\n",
    "# os.environ['OPENAI_API_KEY'] = \"sk-proj-F7ow6Bu53kHPKaQDYbA0T3BlbkFJ2ykR1JffM2jA6Tg0qPOH\"\n",
    "\n",
    "llm = ChatOpenAI(api_key='sk-proj-F7ow6Bu53kHPKaQDYbA0T3BlbkFJ2ykR1JffM2jA6Tg0qPOH')\n",
    "\n",
    "# Successfully installed langchain-core-0.2.1 langsmith-0.1.63"
   ],
   "execution_count": 1,
   "outputs": []
  },
  {
   "metadata": {
    "ExecuteTime": {
     "end_time": "2024-05-29T03:26:10.600458Z",
     "start_time": "2024-05-29T03:26:08.859514Z"
    }
   },
   "cell_type": "code",
   "source": "llm.invoke(\"Does Grainger use any AI to help customers?\").content",
   "id": "f7ca7ed321d5a290",
   "execution_count": 2,
   "outputs": []
  },
  {
   "metadata": {
    "ExecuteTime": {
     "end_time": "2024-05-29T03:26:11.905405Z",
     "start_time": "2024-05-29T03:26:10.602468Z"
    }
   },
   "cell_type": "code",
   "source": "llm.invoke(\"Who works in Grainger's mobile application team?\")",
   "id": "f28087da7e687952",
   "execution_count": 3,
   "outputs": []
  },
  {
   "metadata": {
    "ExecuteTime": {
     "end_time": "2024-05-29T03:26:17.592259Z",
     "start_time": "2024-05-29T03:26:11.908445Z"
    }
   },
   "cell_type": "code",
   "source": [
    "!pip install --upgrade langchain\n",
    "# Successfully installed langchain-0.2.1\n",
    "from langchain_core.documents import Document\n",
    "\n"
   ],
   "id": "cd9bc7cb541d582d",
   "execution_count": 4,
   "outputs": []
  },
  {
   "metadata": {
    "ExecuteTime": {
     "end_time": "2024-05-29T03:26:17.648050Z",
     "start_time": "2024-05-29T03:26:17.594757Z"
    }
   },
   "cell_type": "code",
   "source": [
    "from langchain_core.prompts import ChatPromptTemplate\n",
    "from langchain.chains.combine_documents import create_stuff_documents_chain\n",
    "\n",
    "prompt = ChatPromptTemplate.from_template(\"\"\"Answer the following question based only on the provided context:\n",
    "\n",
    "<context>\n",
    "{context}\n",
    "</context>\n",
    "\n",
    "Question: {input}\"\"\")\n"
   ],
   "id": "c7b84277bb350e7d",
   "execution_count": 5,
   "outputs": []
  },
  {
   "metadata": {
    "ExecuteTime": {
     "end_time": "2024-05-29T03:27:32.304681Z",
     "start_time": "2024-05-29T03:26:17.649751Z"
    }
   },
   "cell_type": "code",
   "source": "!conda install -y langchain==0.1.2",
   "id": "c169ced80ef7e97f",
   "execution_count": 6,
   "outputs": []
  },
  {
   "metadata": {
    "ExecuteTime": {
     "end_time": "2024-05-29T03:27:32.608653Z",
     "start_time": "2024-05-29T03:27:32.307233Z"
    }
   },
   "cell_type": "code",
   "source": [
    "document_chain = create_stuff_documents_chain(llm, prompt)\n",
    "# Assuming context_text is a string containing the text you want to use as context\n",
    "context_text = \"Susan, Rebecca, Tom\"\n",
    "\n",
    "# Instantiate the Document object and set its page_content attribute\n",
    "context_document = Document(page_content=context_text)\n",
    "\n",
    "# Now you can use context_document in places where a Document object is expected\n",
    "response = document_chain.invoke({\n",
    "    \"input\": \"Who has a male name?\",\n",
    "    \"context\": [context_document]\n",
    "})\n",
    "\n",
    "# Print the response content\n",
    "print(response)\n"
   ],
   "id": "821f0809106d016f",
   "execution_count": 7,
   "outputs": []
  },
  {
   "metadata": {
    "ExecuteTime": {
     "end_time": "2024-05-29T03:31:38.150075Z",
     "start_time": "2024-05-29T03:31:37.437032Z"
    }
   },
   "cell_type": "code",
   "source": [
    "query = \"how big is the planet earth?\"\n",
    "document_chain = create_stuff_documents_chain(llm, prompt)\n",
    "# Assuming context_text is a string containing the text you want to use as context\n",
    "context_text = \"bigger than an orange\"\n",
    "\n",
    "# Instantiate the Document object and set its page_content attribute\n",
    "context_document = Document(page_content=context_text)\n",
    "response = document_chain.invoke({\n",
    "            \"input\": f\"{query}\",\n",
    "            \"context\": [context_document]\n",
    "            })\n",
    "print(response)"
   ],
   "id": "c4b25ed56197fb13",
   "execution_count": 10,
   "outputs": []
  },
  {
   "metadata": {},
   "cell_type": "code",
   "execution_count": null,
   "source": "",
   "id": "2097f70002a097cc",
   "outputs": []
  }
 ],
 "metadata": {
  "kernelspec": {
   "display_name": "Python 3",
   "language": "python",
   "name": "python3"
  },
  "language_info": {
   "codemirror_mode": {
    "name": "ipython",
    "version": 2
   },
   "file_extension": ".py",
   "mimetype": "text/x-python",
   "name": "python",
   "nbconvert_exporter": "python",
   "pygments_lexer": "ipython2",
   "version": "2.7.6"
  }
 },
 "nbformat": 4,
 "nbformat_minor": 5
}
