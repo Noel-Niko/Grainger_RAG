{
 "cells": [
  {
   "cell_type": "code",
   "id": "initial_id",
   "metadata": {
    "collapsed": true,
    "ExecuteTime": {
     "end_time": "2024-06-17T01:53:21.554479Z",
     "start_time": "2024-06-17T01:53:09.911145Z"
    }
   },
   "source": [
    "!pip install langchain-openai\n",
    "from langchain_openai import ChatOpenAI\n",
    "# import os\n",
    "# os.environ['OPENAI_API_KEY'] = \"{ENTER HERE}\"\n",
    "from rag_application import constants\n",
    "llm = ChatOpenAI(api_key=constants.chatOpenAiKey)\n",
    "\n",
    "# Successfully installed langchain-core-0.2.1 langsmith-0.1.63"
   ],
   "outputs": [
    {
     "name": "stdout",
     "output_type": "stream",
     "text": [
      "Requirement already satisfied: langchain-openai in /opt/anaconda3/envs/simple_RAG_env/lib/python3.10/site-packages (0.1.8)\r\n",
      "Requirement already satisfied: langchain-core<0.3,>=0.2.2 in /opt/anaconda3/envs/simple_RAG_env/lib/python3.10/site-packages (from langchain-openai) (0.2.7)\r\n",
      "Collecting openai<2.0.0,>=1.26.0 (from langchain-openai)\r\n",
      "  Using cached openai-1.34.0-py3-none-any.whl.metadata (21 kB)\r\n",
      "Requirement already satisfied: tiktoken<1,>=0.7 in /opt/anaconda3/envs/simple_RAG_env/lib/python3.10/site-packages (from langchain-openai) (0.7.0)\r\n",
      "Requirement already satisfied: PyYAML>=5.3 in /opt/anaconda3/envs/simple_RAG_env/lib/python3.10/site-packages (from langchain-core<0.3,>=0.2.2->langchain-openai) (6.0.1)\r\n",
      "Requirement already satisfied: jsonpatch<2.0,>=1.33 in /opt/anaconda3/envs/simple_RAG_env/lib/python3.10/site-packages (from langchain-core<0.3,>=0.2.2->langchain-openai) (1.33)\r\n",
      "Requirement already satisfied: langsmith<0.2.0,>=0.1.75 in /opt/anaconda3/envs/simple_RAG_env/lib/python3.10/site-packages (from langchain-core<0.3,>=0.2.2->langchain-openai) (0.1.77)\r\n",
      "Requirement already satisfied: packaging<25,>=23.2 in /opt/anaconda3/envs/simple_RAG_env/lib/python3.10/site-packages (from langchain-core<0.3,>=0.2.2->langchain-openai) (23.2)\r\n",
      "Requirement already satisfied: pydantic<3,>=1 in /opt/anaconda3/envs/simple_RAG_env/lib/python3.10/site-packages (from langchain-core<0.3,>=0.2.2->langchain-openai) (1.10.16)\r\n",
      "Requirement already satisfied: tenacity<9.0.0,>=8.1.0 in /opt/anaconda3/envs/simple_RAG_env/lib/python3.10/site-packages (from langchain-core<0.3,>=0.2.2->langchain-openai) (8.3.0)\r\n",
      "Requirement already satisfied: anyio<5,>=3.5.0 in /opt/anaconda3/envs/simple_RAG_env/lib/python3.10/site-packages (from openai<2.0.0,>=1.26.0->langchain-openai) (4.3.0)\r\n",
      "Requirement already satisfied: distro<2,>=1.7.0 in /opt/anaconda3/envs/simple_RAG_env/lib/python3.10/site-packages (from openai<2.0.0,>=1.26.0->langchain-openai) (1.9.0)\r\n",
      "Requirement already satisfied: httpx<1,>=0.23.0 in /opt/anaconda3/envs/simple_RAG_env/lib/python3.10/site-packages (from openai<2.0.0,>=1.26.0->langchain-openai) (0.27.0)\r\n",
      "Requirement already satisfied: sniffio in /opt/anaconda3/envs/simple_RAG_env/lib/python3.10/site-packages (from openai<2.0.0,>=1.26.0->langchain-openai) (1.3.1)\r\n",
      "Requirement already satisfied: tqdm>4 in /opt/anaconda3/envs/simple_RAG_env/lib/python3.10/site-packages (from openai<2.0.0,>=1.26.0->langchain-openai) (4.66.4)\r\n",
      "Requirement already satisfied: typing-extensions<5,>=4.7 in /opt/anaconda3/envs/simple_RAG_env/lib/python3.10/site-packages (from openai<2.0.0,>=1.26.0->langchain-openai) (4.12.1)\r\n",
      "Requirement already satisfied: regex>=2022.1.18 in /opt/anaconda3/envs/simple_RAG_env/lib/python3.10/site-packages (from tiktoken<1,>=0.7->langchain-openai) (2024.5.15)\r\n",
      "Requirement already satisfied: requests>=2.26.0 in /opt/anaconda3/envs/simple_RAG_env/lib/python3.10/site-packages (from tiktoken<1,>=0.7->langchain-openai) (2.32.3)\r\n",
      "Requirement already satisfied: idna>=2.8 in /opt/anaconda3/envs/simple_RAG_env/lib/python3.10/site-packages (from anyio<5,>=3.5.0->openai<2.0.0,>=1.26.0->langchain-openai) (3.7)\r\n",
      "Requirement already satisfied: exceptiongroup>=1.0.2 in /opt/anaconda3/envs/simple_RAG_env/lib/python3.10/site-packages (from anyio<5,>=3.5.0->openai<2.0.0,>=1.26.0->langchain-openai) (1.2.0)\r\n",
      "Requirement already satisfied: certifi in /opt/anaconda3/envs/simple_RAG_env/lib/python3.10/site-packages (from httpx<1,>=0.23.0->openai<2.0.0,>=1.26.0->langchain-openai) (2024.6.2)\r\n",
      "Requirement already satisfied: httpcore==1.* in /opt/anaconda3/envs/simple_RAG_env/lib/python3.10/site-packages (from httpx<1,>=0.23.0->openai<2.0.0,>=1.26.0->langchain-openai) (1.0.5)\r\n",
      "Requirement already satisfied: h11<0.15,>=0.13 in /opt/anaconda3/envs/simple_RAG_env/lib/python3.10/site-packages (from httpcore==1.*->httpx<1,>=0.23.0->openai<2.0.0,>=1.26.0->langchain-openai) (0.14.0)\r\n",
      "Requirement already satisfied: jsonpointer>=1.9 in /opt/anaconda3/envs/simple_RAG_env/lib/python3.10/site-packages (from jsonpatch<2.0,>=1.33->langchain-core<0.3,>=0.2.2->langchain-openai) (2.4)\r\n",
      "Requirement already satisfied: orjson<4.0.0,>=3.9.14 in /opt/anaconda3/envs/simple_RAG_env/lib/python3.10/site-packages (from langsmith<0.2.0,>=0.1.75->langchain-core<0.3,>=0.2.2->langchain-openai) (3.10.3)\r\n",
      "Requirement already satisfied: charset-normalizer<4,>=2 in /opt/anaconda3/envs/simple_RAG_env/lib/python3.10/site-packages (from requests>=2.26.0->tiktoken<1,>=0.7->langchain-openai) (3.3.2)\r\n",
      "Requirement already satisfied: urllib3<3,>=1.21.1 in /opt/anaconda3/envs/simple_RAG_env/lib/python3.10/site-packages (from requests>=2.26.0->tiktoken<1,>=0.7->langchain-openai) (2.2.1)\r\n",
      "Using cached openai-1.34.0-py3-none-any.whl (325 kB)\r\n",
      "Installing collected packages: openai\r\n",
      "  Attempting uninstall: openai\r\n",
      "    Found existing installation: openai 0.27.7\r\n",
      "    Uninstalling openai-0.27.7:\r\n",
      "      Successfully uninstalled openai-0.27.7\r\n",
      "Successfully installed openai-1.34.0\r\n"
     ]
    }
   ],
   "execution_count": 30
  },
  {
   "metadata": {
    "ExecuteTime": {
     "end_time": "2024-06-17T01:53:22.635791Z",
     "start_time": "2024-06-17T01:53:21.562327Z"
    }
   },
   "cell_type": "code",
   "source": "llm.invoke(\"Does Grainger use any AI to help customers?\").content",
   "id": "f7ca7ed321d5a290",
   "outputs": [
    {
     "data": {
      "text/plain": [
       "'Yes, Grainger uses artificial intelligence technology to help customers find products, place orders, and provide personalized recommendations. They use AI-powered chatbots, search algorithms, and data analysis to improve the overall customer experience on their website and mobile app.'"
      ]
     },
     "execution_count": 31,
     "metadata": {},
     "output_type": "execute_result"
    }
   ],
   "execution_count": 31
  },
  {
   "metadata": {
    "ExecuteTime": {
     "end_time": "2024-06-17T01:53:23.305137Z",
     "start_time": "2024-06-17T01:53:22.639692Z"
    }
   },
   "cell_type": "code",
   "source": "llm.invoke(\"Who works in Grainger's mobile application team?\")",
   "id": "f28087da7e687952",
   "outputs": [
    {
     "data": {
      "text/plain": [
       "AIMessage(content='The mobile application team at Grainger likely consists of mobile developers, UX/UI designers, product managers, quality assurance testers, and possibly project managers.', response_metadata={'token_usage': {'completion_tokens': 29, 'prompt_tokens': 17, 'total_tokens': 46}, 'model_name': 'gpt-3.5-turbo', 'system_fingerprint': None, 'finish_reason': 'stop', 'logprobs': None}, id='run-0a787d4a-d8f5-42a2-a139-738685d8b2e9-0')"
      ]
     },
     "execution_count": 32,
     "metadata": {},
     "output_type": "execute_result"
    }
   ],
   "execution_count": 32
  },
  {
   "metadata": {
    "ExecuteTime": {
     "end_time": "2024-06-17T01:53:30.494347Z",
     "start_time": "2024-06-17T01:53:23.313007Z"
    }
   },
   "cell_type": "code",
   "source": [
    "!pip install --upgrade langchain\n",
    "# Successfully installed langchain-0.2.1\n",
    "from langchain_core.documents import Document\n",
    "\n"
   ],
   "id": "cd9bc7cb541d582d",
   "outputs": [
    {
     "name": "stdout",
     "output_type": "stream",
     "text": [
      "Requirement already satisfied: langchain in /opt/anaconda3/envs/simple_RAG_env/lib/python3.10/site-packages (0.2.5)\r\n",
      "Requirement already satisfied: PyYAML>=5.3 in /opt/anaconda3/envs/simple_RAG_env/lib/python3.10/site-packages (from langchain) (6.0.1)\r\n",
      "Requirement already satisfied: SQLAlchemy<3,>=1.4 in /opt/anaconda3/envs/simple_RAG_env/lib/python3.10/site-packages (from langchain) (2.0.30)\r\n",
      "Requirement already satisfied: aiohttp<4.0.0,>=3.8.3 in /opt/anaconda3/envs/simple_RAG_env/lib/python3.10/site-packages (from langchain) (3.9.5)\r\n",
      "Requirement already satisfied: async-timeout<5.0.0,>=4.0.0 in /opt/anaconda3/envs/simple_RAG_env/lib/python3.10/site-packages (from langchain) (4.0.3)\r\n",
      "Requirement already satisfied: langchain-core<0.3.0,>=0.2.7 in /opt/anaconda3/envs/simple_RAG_env/lib/python3.10/site-packages (from langchain) (0.2.7)\r\n",
      "Requirement already satisfied: langchain-text-splitters<0.3.0,>=0.2.0 in /opt/anaconda3/envs/simple_RAG_env/lib/python3.10/site-packages (from langchain) (0.2.1)\r\n",
      "Requirement already satisfied: langsmith<0.2.0,>=0.1.17 in /opt/anaconda3/envs/simple_RAG_env/lib/python3.10/site-packages (from langchain) (0.1.77)\r\n",
      "Requirement already satisfied: numpy<2,>=1 in /opt/anaconda3/envs/simple_RAG_env/lib/python3.10/site-packages (from langchain) (1.26.4)\r\n",
      "Requirement already satisfied: pydantic<3,>=1 in /opt/anaconda3/envs/simple_RAG_env/lib/python3.10/site-packages (from langchain) (1.10.16)\r\n",
      "Requirement already satisfied: requests<3,>=2 in /opt/anaconda3/envs/simple_RAG_env/lib/python3.10/site-packages (from langchain) (2.32.3)\r\n",
      "Requirement already satisfied: tenacity<9.0.0,>=8.1.0 in /opt/anaconda3/envs/simple_RAG_env/lib/python3.10/site-packages (from langchain) (8.3.0)\r\n",
      "Requirement already satisfied: aiosignal>=1.1.2 in /opt/anaconda3/envs/simple_RAG_env/lib/python3.10/site-packages (from aiohttp<4.0.0,>=3.8.3->langchain) (1.3.1)\r\n",
      "Requirement already satisfied: attrs>=17.3.0 in /opt/anaconda3/envs/simple_RAG_env/lib/python3.10/site-packages (from aiohttp<4.0.0,>=3.8.3->langchain) (23.2.0)\r\n",
      "Requirement already satisfied: frozenlist>=1.1.1 in /opt/anaconda3/envs/simple_RAG_env/lib/python3.10/site-packages (from aiohttp<4.0.0,>=3.8.3->langchain) (1.4.1)\r\n",
      "Requirement already satisfied: multidict<7.0,>=4.5 in /opt/anaconda3/envs/simple_RAG_env/lib/python3.10/site-packages (from aiohttp<4.0.0,>=3.8.3->langchain) (6.0.5)\r\n",
      "Requirement already satisfied: yarl<2.0,>=1.0 in /opt/anaconda3/envs/simple_RAG_env/lib/python3.10/site-packages (from aiohttp<4.0.0,>=3.8.3->langchain) (1.9.4)\r\n",
      "Requirement already satisfied: jsonpatch<2.0,>=1.33 in /opt/anaconda3/envs/simple_RAG_env/lib/python3.10/site-packages (from langchain-core<0.3.0,>=0.2.7->langchain) (1.33)\r\n",
      "Requirement already satisfied: packaging<25,>=23.2 in /opt/anaconda3/envs/simple_RAG_env/lib/python3.10/site-packages (from langchain-core<0.3.0,>=0.2.7->langchain) (23.2)\r\n",
      "Requirement already satisfied: orjson<4.0.0,>=3.9.14 in /opt/anaconda3/envs/simple_RAG_env/lib/python3.10/site-packages (from langsmith<0.2.0,>=0.1.17->langchain) (3.10.3)\r\n",
      "Requirement already satisfied: typing-extensions>=4.2.0 in /opt/anaconda3/envs/simple_RAG_env/lib/python3.10/site-packages (from pydantic<3,>=1->langchain) (4.12.1)\r\n",
      "Requirement already satisfied: charset-normalizer<4,>=2 in /opt/anaconda3/envs/simple_RAG_env/lib/python3.10/site-packages (from requests<3,>=2->langchain) (3.3.2)\r\n",
      "Requirement already satisfied: idna<4,>=2.5 in /opt/anaconda3/envs/simple_RAG_env/lib/python3.10/site-packages (from requests<3,>=2->langchain) (3.7)\r\n",
      "Requirement already satisfied: urllib3<3,>=1.21.1 in /opt/anaconda3/envs/simple_RAG_env/lib/python3.10/site-packages (from requests<3,>=2->langchain) (2.2.1)\r\n",
      "Requirement already satisfied: certifi>=2017.4.17 in /opt/anaconda3/envs/simple_RAG_env/lib/python3.10/site-packages (from requests<3,>=2->langchain) (2024.6.2)\r\n",
      "Requirement already satisfied: greenlet!=0.4.17 in /opt/anaconda3/envs/simple_RAG_env/lib/python3.10/site-packages (from SQLAlchemy<3,>=1.4->langchain) (3.0.3)\r\n",
      "Requirement already satisfied: jsonpointer>=1.9 in /opt/anaconda3/envs/simple_RAG_env/lib/python3.10/site-packages (from jsonpatch<2.0,>=1.33->langchain-core<0.3.0,>=0.2.7->langchain) (2.4)\r\n"
     ]
    }
   ],
   "execution_count": 33
  },
  {
   "metadata": {
    "ExecuteTime": {
     "end_time": "2024-06-17T01:53:30.510389Z",
     "start_time": "2024-06-17T01:53:30.498582Z"
    }
   },
   "cell_type": "code",
   "source": [
    "from langchain_core.prompts import ChatPromptTemplate\n",
    "from langchain.chains.combine_documents import create_stuff_documents_chain\n",
    "\n",
    "prompt = ChatPromptTemplate.from_template(\"\"\"Answer the following question based only on the provided context:\n",
    "\n",
    "<context>\n",
    "{context}\n",
    "</context>\n",
    "\n",
    "Question: {input}\"\"\")\n"
   ],
   "id": "c7b84277bb350e7d",
   "outputs": [],
   "execution_count": 34
  },
  {
   "metadata": {
    "ExecuteTime": {
     "end_time": "2024-06-17T01:56:18.451676Z",
     "start_time": "2024-06-17T01:53:30.515298Z"
    }
   },
   "cell_type": "code",
   "source": "!conda install -y langchain==0.1.2",
   "id": "c169ced80ef7e97f",
   "outputs": [
    {
     "name": "stdout",
     "output_type": "stream",
     "text": [
      "Channels:\r\n",
      " - conda-forge\r\n",
      " - defaults\r\n",
      "Platform: osx-64\r\n",
      "Collecting package metadata (repodata.json): done\r\n",
      "Solving environment: failed\r\n",
      "\r\n",
      "LibMambaUnsatisfiableError: Encountered problems while solving:\r\n",
      "  - package langchain-0.1.2-pyhd8ed1ab_0 requires langsmith >=0.0.83,<0.0.84, but none of the providers can be installed\r\n",
      "\r\n",
      "Could not solve for environment specs\r\n",
      "The following packages are incompatible\r\n",
      "├─ \u001B[32mlangchain-openai\u001B[0m is installable with the potential options\r\n",
      "│  ├─ \u001B[32mlangchain-openai 0.0.8\u001B[0m would require\r\n",
      "│  │  └─ \u001B[32mlangchain-core >=0.1.27,<0.2.0 \u001B[0m, which requires\r\n",
      "│  │     └─ \u001B[32mlangsmith >=0.1.0,<0.2.0 \u001B[0m, which can be installed;\r\n",
      "│  └─ \u001B[32mlangchain-openai [0.1.0|0.1.1|...|0.1.8]\u001B[0m, which can be installed;\r\n",
      "└─ \u001B[31mlangchain 0.1.2 \u001B[0m is not installable because it requires\r\n",
      "   ├─ \u001B[31mlangchain-openai >=0.0.2,<0.1 \u001B[0m, which conflicts with any installable versions previously reported;\r\n",
      "   └─ \u001B[31mlangsmith >=0.0.83,<0.0.84 \u001B[0m, which conflicts with any installable versions previously reported.\r\n",
      "\r\n"
     ]
    }
   ],
   "execution_count": 35
  },
  {
   "metadata": {
    "ExecuteTime": {
     "end_time": "2024-06-17T01:56:19.101069Z",
     "start_time": "2024-06-17T01:56:18.464932Z"
    }
   },
   "cell_type": "code",
   "source": [
    "document_chain = create_stuff_documents_chain(llm, prompt)\n",
    "# Assuming context_text is a string containing the text you want to use as context\n",
    "context_text = \"Susan, Rebecca, Tom\"\n",
    "\n",
    "# Instantiate the Document object and set its page_content attribute\n",
    "context_document = Document(page_content=context_text)\n",
    "\n",
    "# Now you can use context_document in places where a Document object is expected\n",
    "response = document_chain.invoke({\n",
    "    \"input\": \"Who has a male name?\",\n",
    "    \"context\": [context_document]\n",
    "})\n",
    "\n",
    "# Print the response content\n",
    "print(response)\n"
   ],
   "id": "821f0809106d016f",
   "outputs": [
    {
     "name": "stdout",
     "output_type": "stream",
     "text": [
      "Tom\n"
     ]
    }
   ],
   "execution_count": 36
  },
  {
   "metadata": {
    "ExecuteTime": {
     "end_time": "2024-06-17T01:56:19.873232Z",
     "start_time": "2024-06-17T01:56:19.106401Z"
    }
   },
   "cell_type": "code",
   "source": [
    "query = \"how big is the planet earth?\"\n",
    "document_chain = create_stuff_documents_chain(llm, prompt)\n",
    "# Assuming context_text is a string containing the text you want to use as context\n",
    "context_text = \"bigger than an orange\"\n",
    "\n",
    "# Instantiate the Document object and set its page_content attribute\n",
    "context_document = Document(page_content=context_text)\n",
    "response = document_chain.invoke({\n",
    "            \"input\": f\"{query}\",\n",
    "            \"context\": [context_document]\n",
    "            })\n",
    "print(response)"
   ],
   "id": "c4b25ed56197fb13",
   "outputs": [
    {
     "name": "stdout",
     "output_type": "stream",
     "text": [
      "The planet Earth is much bigger than an orange.\n"
     ]
    }
   ],
   "execution_count": 37
  },
  {
   "metadata": {},
   "cell_type": "code",
   "outputs": [],
   "execution_count": null,
   "source": "",
   "id": "a42e57e054eb8a4e"
  }
 ],
 "metadata": {
  "kernelspec": {
   "display_name": "Python 3",
   "language": "python",
   "name": "python3"
  },
  "language_info": {
   "codemirror_mode": {
    "name": "ipython",
    "version": 2
   },
   "file_extension": ".py",
   "mimetype": "text/x-python",
   "name": "python",
   "nbconvert_exporter": "python",
   "pygments_lexer": "ipython2",
   "version": "2.7.6"
  }
 },
 "nbformat": 4,
 "nbformat_minor": 5
}
