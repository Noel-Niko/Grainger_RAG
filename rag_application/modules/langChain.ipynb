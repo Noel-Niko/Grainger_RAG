{
 "cells": [
  {
   "cell_type": "code",
   "id": "initial_id",
   "metadata": {
    "collapsed": true,
    "ExecuteTime": {
     "end_time": "2024-05-29T03:26:08.857283Z",
     "start_time": "2024-05-29T03:26:04.196771Z"
    }
   },
   "source": [
    "\n",
    "!pip install langchain-openai\n",
    "from langchain_openai import ChatOpenAI\n",
    "# import os\n",
    "# os.environ['OPENAI_API_KEY'] = \"sk-proj-F7ow6Bu53kHPKaQDYbA0T3BlbkFJ2ykR1JffM2jA6Tg0qPOH\"\n",
    "\n",
    "llm = ChatOpenAI(api_key='sk-proj-F7ow6Bu53kHPKaQDYbA0T3BlbkFJ2ykR1JffM2jA6Tg0qPOH')\n",
    "\n",
    "# Successfully installed langchain-core-0.2.1 langsmith-0.1.63"
   ],
   "outputs": [
    {
     "name": "stdout",
     "output_type": "stream",
     "text": [
      "Requirement already satisfied: langchain-openai in /opt/anaconda3/envs/rag_env/lib/python3.9/site-packages (0.0.8)\r\n",
      "Requirement already satisfied: langchain-core<0.2.0,>=0.1.27 in /opt/anaconda3/envs/rag_env/lib/python3.9/site-packages (from langchain-openai) (0.1.52)\r\n",
      "Requirement already satisfied: openai<2.0.0,>=1.10.0 in /opt/anaconda3/envs/rag_env/lib/python3.9/site-packages (from langchain-openai) (1.30.3)\r\n",
      "Requirement already satisfied: tiktoken<1,>=0.5.2 in /opt/anaconda3/envs/rag_env/lib/python3.9/site-packages (from langchain-openai) (0.5.2)\r\n",
      "Requirement already satisfied: PyYAML>=5.3 in /opt/anaconda3/envs/rag_env/lib/python3.9/site-packages (from langchain-core<0.2.0,>=0.1.27->langchain-openai) (6.0.1)\r\n",
      "Requirement already satisfied: jsonpatch<2.0,>=1.33 in /opt/anaconda3/envs/rag_env/lib/python3.9/site-packages (from langchain-core<0.2.0,>=0.1.27->langchain-openai) (1.33)\r\n",
      "Requirement already satisfied: langsmith<0.2.0,>=0.1.0 in /opt/anaconda3/envs/rag_env/lib/python3.9/site-packages (from langchain-core<0.2.0,>=0.1.27->langchain-openai) (0.1.63)\r\n",
      "Requirement already satisfied: packaging<24.0,>=23.2 in /opt/anaconda3/envs/rag_env/lib/python3.9/site-packages (from langchain-core<0.2.0,>=0.1.27->langchain-openai) (23.2)\r\n",
      "Requirement already satisfied: pydantic<3,>=1 in /opt/anaconda3/envs/rag_env/lib/python3.9/site-packages (from langchain-core<0.2.0,>=0.1.27->langchain-openai) (2.7.1)\r\n",
      "Requirement already satisfied: tenacity<9.0.0,>=8.1.0 in /opt/anaconda3/envs/rag_env/lib/python3.9/site-packages (from langchain-core<0.2.0,>=0.1.27->langchain-openai) (8.3.0)\r\n",
      "Requirement already satisfied: anyio<5,>=3.5.0 in /opt/anaconda3/envs/rag_env/lib/python3.9/site-packages (from openai<2.0.0,>=1.10.0->langchain-openai) (4.3.0)\r\n",
      "Requirement already satisfied: distro<2,>=1.7.0 in /opt/anaconda3/envs/rag_env/lib/python3.9/site-packages (from openai<2.0.0,>=1.10.0->langchain-openai) (1.9.0)\r\n",
      "Requirement already satisfied: httpx<1,>=0.23.0 in /opt/anaconda3/envs/rag_env/lib/python3.9/site-packages (from openai<2.0.0,>=1.10.0->langchain-openai) (0.27.0)\r\n",
      "Requirement already satisfied: sniffio in /opt/anaconda3/envs/rag_env/lib/python3.9/site-packages (from openai<2.0.0,>=1.10.0->langchain-openai) (1.3.1)\r\n",
      "Requirement already satisfied: tqdm>4 in /opt/anaconda3/envs/rag_env/lib/python3.9/site-packages (from openai<2.0.0,>=1.10.0->langchain-openai) (4.66.4)\r\n",
      "Requirement already satisfied: typing-extensions<5,>=4.7 in /opt/anaconda3/envs/rag_env/lib/python3.9/site-packages (from openai<2.0.0,>=1.10.0->langchain-openai) (4.11.0)\r\n",
      "Requirement already satisfied: regex>=2022.1.18 in /opt/anaconda3/envs/rag_env/lib/python3.9/site-packages (from tiktoken<1,>=0.5.2->langchain-openai) (2024.5.15)\r\n",
      "Requirement already satisfied: requests>=2.26.0 in /opt/anaconda3/envs/rag_env/lib/python3.9/site-packages (from tiktoken<1,>=0.5.2->langchain-openai) (2.32.2)\r\n",
      "Requirement already satisfied: idna>=2.8 in /opt/anaconda3/envs/rag_env/lib/python3.9/site-packages (from anyio<5,>=3.5.0->openai<2.0.0,>=1.10.0->langchain-openai) (3.7)\r\n",
      "Requirement already satisfied: exceptiongroup>=1.0.2 in /opt/anaconda3/envs/rag_env/lib/python3.9/site-packages (from anyio<5,>=3.5.0->openai<2.0.0,>=1.10.0->langchain-openai) (1.2.0)\r\n",
      "Requirement already satisfied: certifi in /opt/anaconda3/envs/rag_env/lib/python3.9/site-packages (from httpx<1,>=0.23.0->openai<2.0.0,>=1.10.0->langchain-openai) (2024.2.2)\r\n",
      "Requirement already satisfied: httpcore==1.* in /opt/anaconda3/envs/rag_env/lib/python3.9/site-packages (from httpx<1,>=0.23.0->openai<2.0.0,>=1.10.0->langchain-openai) (1.0.5)\r\n",
      "Requirement already satisfied: h11<0.15,>=0.13 in /opt/anaconda3/envs/rag_env/lib/python3.9/site-packages (from httpcore==1.*->httpx<1,>=0.23.0->openai<2.0.0,>=1.10.0->langchain-openai) (0.14.0)\r\n",
      "Requirement already satisfied: jsonpointer>=1.9 in /opt/anaconda3/envs/rag_env/lib/python3.9/site-packages (from jsonpatch<2.0,>=1.33->langchain-core<0.2.0,>=0.1.27->langchain-openai) (2.4)\r\n",
      "Requirement already satisfied: orjson<4.0.0,>=3.9.14 in /opt/anaconda3/envs/rag_env/lib/python3.9/site-packages (from langsmith<0.2.0,>=0.1.0->langchain-core<0.2.0,>=0.1.27->langchain-openai) (3.10.3)\r\n",
      "Requirement already satisfied: annotated-types>=0.4.0 in /opt/anaconda3/envs/rag_env/lib/python3.9/site-packages (from pydantic<3,>=1->langchain-core<0.2.0,>=0.1.27->langchain-openai) (0.7.0)\r\n",
      "Requirement already satisfied: pydantic-core==2.18.2 in /opt/anaconda3/envs/rag_env/lib/python3.9/site-packages (from pydantic<3,>=1->langchain-core<0.2.0,>=0.1.27->langchain-openai) (2.18.2)\r\n",
      "Requirement already satisfied: charset-normalizer<4,>=2 in /opt/anaconda3/envs/rag_env/lib/python3.9/site-packages (from requests>=2.26.0->tiktoken<1,>=0.5.2->langchain-openai) (3.3.2)\r\n",
      "Requirement already satisfied: urllib3<3,>=1.21.1 in /opt/anaconda3/envs/rag_env/lib/python3.9/site-packages (from requests>=2.26.0->tiktoken<1,>=0.5.2->langchain-openai) (2.2.1)\r\n"
     ]
    }
   ],
   "execution_count": 1
  },
  {
   "metadata": {
    "ExecuteTime": {
     "end_time": "2024-05-29T03:26:10.600458Z",
     "start_time": "2024-05-29T03:26:08.859514Z"
    }
   },
   "cell_type": "code",
   "source": "llm.invoke(\"Does Grainger use any AI to help customers?\").content",
   "id": "f7ca7ed321d5a290",
   "outputs": [
    {
     "data": {
      "text/plain": [
       "'Yes, Grainger uses artificial intelligence (AI) in various ways to help customers. One example is their AI-powered chatbot, which can assist customers with product recommendations, order tracking, and other inquiries. Grainger also uses AI algorithms to analyze customer data and provide personalized recommendations for products and services. Additionally, the company leverages AI technology to optimize inventory management and streamline the ordering process for customers.'"
      ]
     },
     "execution_count": 2,
     "metadata": {},
     "output_type": "execute_result"
    }
   ],
   "execution_count": 2
  },
  {
   "metadata": {
    "ExecuteTime": {
     "end_time": "2024-05-29T03:26:11.905405Z",
     "start_time": "2024-05-29T03:26:10.602468Z"
    }
   },
   "cell_type": "code",
   "source": "llm.invoke(\"Who works in Grainger's mobile application team?\")",
   "id": "f28087da7e687952",
   "outputs": [
    {
     "data": {
      "text/plain": [
       "AIMessage(content=\"The mobile application team at Grainger likely consists of a variety of professionals, including mobile app developers, UI/UX designers, product managers, quality assurance testers, and possibly project managers. Each team member plays a crucial role in developing and maintaining Grainger's mobile application to ensure it meets the needs of customers and delivers a seamless user experience.\", response_metadata={'token_usage': {'completion_tokens': 68, 'prompt_tokens': 17, 'total_tokens': 85}, 'model_name': 'gpt-3.5-turbo', 'system_fingerprint': None, 'finish_reason': 'stop', 'logprobs': None}, id='run-24f99eef-a028-41e1-bb52-7e309ce36bd8-0')"
      ]
     },
     "execution_count": 3,
     "metadata": {},
     "output_type": "execute_result"
    }
   ],
   "execution_count": 3
  },
  {
   "metadata": {
    "ExecuteTime": {
     "end_time": "2024-05-29T03:26:17.592259Z",
     "start_time": "2024-05-29T03:26:11.908445Z"
    }
   },
   "cell_type": "code",
   "source": [
    "!pip install --upgrade langchain\n",
    "# Successfully installed langchain-0.2.1\n",
    "from langchain_core.documents import Document\n",
    "\n"
   ],
   "id": "cd9bc7cb541d582d",
   "outputs": [
    {
     "name": "stdout",
     "output_type": "stream",
     "text": [
      "Requirement already satisfied: langchain in /opt/anaconda3/envs/rag_env/lib/python3.9/site-packages (0.1.20)\r\n",
      "Collecting langchain\r\n",
      "  Using cached langchain-0.2.1-py3-none-any.whl.metadata (13 kB)\r\n",
      "Requirement already satisfied: PyYAML>=5.3 in /opt/anaconda3/envs/rag_env/lib/python3.9/site-packages (from langchain) (6.0.1)\r\n",
      "Requirement already satisfied: SQLAlchemy<3,>=1.4 in /opt/anaconda3/envs/rag_env/lib/python3.9/site-packages (from langchain) (2.0.30)\r\n",
      "Requirement already satisfied: aiohttp<4.0.0,>=3.8.3 in /opt/anaconda3/envs/rag_env/lib/python3.9/site-packages (from langchain) (3.9.5)\r\n",
      "Requirement already satisfied: async-timeout<5.0.0,>=4.0.0 in /opt/anaconda3/envs/rag_env/lib/python3.9/site-packages (from langchain) (4.0.3)\r\n",
      "Collecting langchain-core<0.3.0,>=0.2.0 (from langchain)\r\n",
      "  Using cached langchain_core-0.2.1-py3-none-any.whl.metadata (5.9 kB)\r\n",
      "Collecting langchain-text-splitters<0.3.0,>=0.2.0 (from langchain)\r\n",
      "  Using cached langchain_text_splitters-0.2.0-py3-none-any.whl.metadata (2.2 kB)\r\n",
      "Requirement already satisfied: langsmith<0.2.0,>=0.1.17 in /opt/anaconda3/envs/rag_env/lib/python3.9/site-packages (from langchain) (0.1.63)\r\n",
      "Requirement already satisfied: numpy<2,>=1 in /opt/anaconda3/envs/rag_env/lib/python3.9/site-packages (from langchain) (1.26.4)\r\n",
      "Requirement already satisfied: pydantic<3,>=1 in /opt/anaconda3/envs/rag_env/lib/python3.9/site-packages (from langchain) (2.7.1)\r\n",
      "Requirement already satisfied: requests<3,>=2 in /opt/anaconda3/envs/rag_env/lib/python3.9/site-packages (from langchain) (2.32.2)\r\n",
      "Requirement already satisfied: tenacity<9.0.0,>=8.1.0 in /opt/anaconda3/envs/rag_env/lib/python3.9/site-packages (from langchain) (8.3.0)\r\n",
      "Requirement already satisfied: aiosignal>=1.1.2 in /opt/anaconda3/envs/rag_env/lib/python3.9/site-packages (from aiohttp<4.0.0,>=3.8.3->langchain) (1.3.1)\r\n",
      "Requirement already satisfied: attrs>=17.3.0 in /opt/anaconda3/envs/rag_env/lib/python3.9/site-packages (from aiohttp<4.0.0,>=3.8.3->langchain) (23.2.0)\r\n",
      "Requirement already satisfied: frozenlist>=1.1.1 in /opt/anaconda3/envs/rag_env/lib/python3.9/site-packages (from aiohttp<4.0.0,>=3.8.3->langchain) (1.4.1)\r\n",
      "Requirement already satisfied: multidict<7.0,>=4.5 in /opt/anaconda3/envs/rag_env/lib/python3.9/site-packages (from aiohttp<4.0.0,>=3.8.3->langchain) (6.0.5)\r\n",
      "Requirement already satisfied: yarl<2.0,>=1.0 in /opt/anaconda3/envs/rag_env/lib/python3.9/site-packages (from aiohttp<4.0.0,>=3.8.3->langchain) (1.9.4)\r\n",
      "Requirement already satisfied: jsonpatch<2.0,>=1.33 in /opt/anaconda3/envs/rag_env/lib/python3.9/site-packages (from langchain-core<0.3.0,>=0.2.0->langchain) (1.33)\r\n",
      "Requirement already satisfied: packaging<24.0,>=23.2 in /opt/anaconda3/envs/rag_env/lib/python3.9/site-packages (from langchain-core<0.3.0,>=0.2.0->langchain) (23.2)\r\n",
      "Requirement already satisfied: orjson<4.0.0,>=3.9.14 in /opt/anaconda3/envs/rag_env/lib/python3.9/site-packages (from langsmith<0.2.0,>=0.1.17->langchain) (3.10.3)\r\n",
      "Requirement already satisfied: annotated-types>=0.4.0 in /opt/anaconda3/envs/rag_env/lib/python3.9/site-packages (from pydantic<3,>=1->langchain) (0.7.0)\r\n",
      "Requirement already satisfied: pydantic-core==2.18.2 in /opt/anaconda3/envs/rag_env/lib/python3.9/site-packages (from pydantic<3,>=1->langchain) (2.18.2)\r\n",
      "Requirement already satisfied: typing-extensions>=4.6.1 in /opt/anaconda3/envs/rag_env/lib/python3.9/site-packages (from pydantic<3,>=1->langchain) (4.11.0)\r\n",
      "Requirement already satisfied: charset-normalizer<4,>=2 in /opt/anaconda3/envs/rag_env/lib/python3.9/site-packages (from requests<3,>=2->langchain) (3.3.2)\r\n",
      "Requirement already satisfied: idna<4,>=2.5 in /opt/anaconda3/envs/rag_env/lib/python3.9/site-packages (from requests<3,>=2->langchain) (3.7)\r\n",
      "Requirement already satisfied: urllib3<3,>=1.21.1 in /opt/anaconda3/envs/rag_env/lib/python3.9/site-packages (from requests<3,>=2->langchain) (2.2.1)\r\n",
      "Requirement already satisfied: certifi>=2017.4.17 in /opt/anaconda3/envs/rag_env/lib/python3.9/site-packages (from requests<3,>=2->langchain) (2024.2.2)\r\n",
      "Requirement already satisfied: greenlet!=0.4.17 in /opt/anaconda3/envs/rag_env/lib/python3.9/site-packages (from SQLAlchemy<3,>=1.4->langchain) (3.0.3)\r\n",
      "Requirement already satisfied: jsonpointer>=1.9 in /opt/anaconda3/envs/rag_env/lib/python3.9/site-packages (from jsonpatch<2.0,>=1.33->langchain-core<0.3.0,>=0.2.0->langchain) (2.4)\r\n",
      "Using cached langchain-0.2.1-py3-none-any.whl (973 kB)\r\n",
      "Using cached langchain_core-0.2.1-py3-none-any.whl (308 kB)\r\n",
      "Using cached langchain_text_splitters-0.2.0-py3-none-any.whl (23 kB)\r\n",
      "Installing collected packages: langchain-core, langchain-text-splitters, langchain\r\n",
      "  Attempting uninstall: langchain-core\r\n",
      "    Found existing installation: langchain-core 0.1.52\r\n",
      "    Uninstalling langchain-core-0.1.52:\r\n",
      "      Successfully uninstalled langchain-core-0.1.52\r\n",
      "  Attempting uninstall: langchain-text-splitters\r\n",
      "    Found existing installation: langchain-text-splitters 0.0.2\r\n",
      "    Uninstalling langchain-text-splitters-0.0.2:\r\n",
      "      Successfully uninstalled langchain-text-splitters-0.0.2\r\n",
      "  Attempting uninstall: langchain\r\n",
      "    Found existing installation: langchain 0.1.20\r\n",
      "    Uninstalling langchain-0.1.20:\r\n",
      "      Successfully uninstalled langchain-0.1.20\r\n",
      "\u001B[31mERROR: pip's dependency resolver does not currently take into account all the packages that are installed. This behaviour is the source of the following dependency conflicts.\r\n",
      "langchain-community 0.0.38 requires langchain-core<0.2.0,>=0.1.52, but you have langchain-core 0.2.1 which is incompatible.\r\n",
      "langchain-openai 0.0.8 requires langchain-core<0.2.0,>=0.1.27, but you have langchain-core 0.2.1 which is incompatible.\u001B[0m\u001B[31m\r\n",
      "\u001B[0mSuccessfully installed langchain-0.2.1 langchain-core-0.2.1 langchain-text-splitters-0.2.0\r\n"
     ]
    }
   ],
   "execution_count": 4
  },
  {
   "metadata": {
    "ExecuteTime": {
     "end_time": "2024-05-29T03:26:17.648050Z",
     "start_time": "2024-05-29T03:26:17.594757Z"
    }
   },
   "cell_type": "code",
   "source": [
    "from langchain_core.prompts import ChatPromptTemplate\n",
    "from langchain.chains.combine_documents import create_stuff_documents_chain\n",
    "\n",
    "prompt = ChatPromptTemplate.from_template(\"\"\"Answer the following question based only on the provided context:\n",
    "\n",
    "<context>\n",
    "{context}\n",
    "</context>\n",
    "\n",
    "Question: {input}\"\"\")\n"
   ],
   "id": "c7b84277bb350e7d",
   "outputs": [],
   "execution_count": 5
  },
  {
   "metadata": {
    "ExecuteTime": {
     "end_time": "2024-05-29T03:27:32.304681Z",
     "start_time": "2024-05-29T03:26:17.649751Z"
    }
   },
   "cell_type": "code",
   "source": "!conda install -y langchain==0.1.2",
   "id": "c169ced80ef7e97f",
   "outputs": [
    {
     "name": "stdout",
     "output_type": "stream",
     "text": [
      "Channels:\r\n",
      " - conda-forge\r\n",
      " - defaults\r\n",
      " - pytorch\r\n",
      "Platform: osx-64\r\n",
      "Collecting package metadata (repodata.json): done\r\n",
      "Solving environment: done\r\n",
      "\r\n",
      "## Package Plan ##\r\n",
      "\r\n",
      "  environment location: /opt/anaconda3/envs/rag_env\r\n",
      "\r\n",
      "  added / updated specs:\r\n",
      "    - langchain==0.1.2\r\n",
      "\r\n",
      "\r\n",
      "The following packages will be downloaded:\r\n",
      "\r\n",
      "    package                    |            build\r\n",
      "    ---------------------------|-----------------\r\n",
      "    markdownify-0.11.6         |     pyhd8ed1ab_0          19 KB  conda-forge\r\n",
      "    ------------------------------------------------------------\r\n",
      "                                           Total:          19 KB\r\n",
      "\r\n",
      "The following NEW packages will be INSTALLED:\r\n",
      "\r\n",
      "  pytest-subtests    conda-forge/noarch::pytest-subtests-0.11.0-pyhd8ed1ab_0 \r\n",
      "\r\n",
      "The following packages will be REMOVED:\r\n",
      "\r\n",
      "  langchain-text-splitters-0.2.0-pypi_0\r\n",
      "\r\n",
      "The following packages will be SUPERSEDED by a higher-priority channel:\r\n",
      "\r\n",
      "  langchain               pypi/pypi::langchain-0.2.1-pypi_0 --> conda-forge/noarch::langchain-0.1.2-pyhd8ed1ab_0 \r\n",
      "  langchain-core     pypi/pypi::langchain-core-0.2.1-pypi_0 --> conda-forge/noarch::langchain-core-0.1.22-pyhd8ed1ab_0 \r\n",
      "  markdownify          pypi/pypi::markdownify-0.12.1-pypi_0 --> conda-forge/noarch::markdownify-0.11.6-pyhd8ed1ab_0 \r\n",
      "\r\n",
      "The following packages will be DOWNGRADED:\r\n",
      "\r\n",
      "  langchain-communi~                    0.0.38-pyhd8ed1ab_0 --> 0.0.20-pyhd8ed1ab_0 \r\n",
      "  langsmith                             0.1.63-pyhd8ed1ab_0 --> 0.0.83-pyhd8ed1ab_0 \r\n",
      "\r\n",
      "\r\n",
      "\r\n",
      "Downloading and Extracting Packages:\r\n",
      "                                                                                \r\n",
      "Preparing transaction: done\r\n",
      "Verifying transaction: done\r\n",
      "Executing transaction: done\r\n"
     ]
    }
   ],
   "execution_count": 6
  },
  {
   "metadata": {
    "ExecuteTime": {
     "end_time": "2024-05-29T03:27:32.608653Z",
     "start_time": "2024-05-29T03:27:32.307233Z"
    }
   },
   "cell_type": "code",
   "source": [
    "document_chain = create_stuff_documents_chain(llm, prompt)\n",
    "# Assuming context_text is a string containing the text you want to use as context\n",
    "context_text = \"Susan, Rebecca, Tom\"\n",
    "\n",
    "# Instantiate the Document object and set its page_content attribute\n",
    "context_document = Document(page_content=context_text)\n",
    "\n",
    "# Now you can use context_document in places where a Document object is expected\n",
    "response = document_chain.invoke({\n",
    "    \"input\": \"Who has a male name?\",\n",
    "    \"context\": [context_document]\n",
    "})\n",
    "\n",
    "# Print the response content\n",
    "print(response)\n"
   ],
   "id": "821f0809106d016f",
   "outputs": [
    {
     "name": "stdout",
     "output_type": "stream",
     "text": [
      "Tom\n"
     ]
    }
   ],
   "execution_count": 7
  },
  {
   "metadata": {
    "ExecuteTime": {
     "end_time": "2024-05-29T03:31:38.150075Z",
     "start_time": "2024-05-29T03:31:37.437032Z"
    }
   },
   "cell_type": "code",
   "source": [
    "query = \"how big is the planet earth?\"\n",
    "document_chain = create_stuff_documents_chain(llm, prompt)\n",
    "# Assuming context_text is a string containing the text you want to use as context\n",
    "context_text = \"bigger than an orange\"\n",
    "\n",
    "# Instantiate the Document object and set its page_content attribute\n",
    "context_document = Document(page_content=context_text)\n",
    "response = document_chain.invoke({\n",
    "            \"input\": f\"{query}\",\n",
    "            \"context\": [context_document]\n",
    "            })\n",
    "print(response)"
   ],
   "id": "c4b25ed56197fb13",
   "outputs": [
    {
     "name": "stdout",
     "output_type": "stream",
     "text": [
      "The planet earth is bigger than an orange.\n"
     ]
    }
   ],
   "execution_count": 10
  },
  {
   "metadata": {},
   "cell_type": "code",
   "outputs": [],
   "execution_count": null,
   "source": "",
   "id": "2097f70002a097cc"
  }
 ],
 "metadata": {
  "kernelspec": {
   "display_name": "Python 3",
   "language": "python",
   "name": "python3"
  },
  "language_info": {
   "codemirror_mode": {
    "name": "ipython",
    "version": 2
   },
   "file_extension": ".py",
   "mimetype": "text/x-python",
   "name": "python",
   "nbconvert_exporter": "python",
   "pygments_lexer": "ipython2",
   "version": "2.7.6"
  }
 },
 "nbformat": 4,
 "nbformat_minor": 5
}
