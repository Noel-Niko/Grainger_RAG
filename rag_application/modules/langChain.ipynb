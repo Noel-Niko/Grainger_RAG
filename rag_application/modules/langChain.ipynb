{
 "cells": [
  {
   "cell_type": "code",
   "id": "initial_id",
   "metadata": {
    "collapsed": true,
    "ExecuteTime": {
     "end_time": "2024-05-28T23:33:42.047129Z",
     "start_time": "2024-05-28T23:33:38.577716Z"
    }
   },
   "source": [
    "\n",
    "!pip install langchain-openai\n",
    "from langchain_openai import ChatOpenAI\n",
    "# import os\n",
    "# os.environ['OPENAI_API_KEY'] = \"sk-proj-F7ow6Bu53kHPKaQDYbA0T3BlbkFJ2ykR1JffM2jA6Tg0qPOH\"\n",
    "\n",
    "llm = ChatOpenAI(api_key='sk-proj-F7ow6Bu53kHPKaQDYbA0T3BlbkFJ2ykR1JffM2jA6Tg0qPOH')\n",
    "\n",
    "# Successfully installed langchain-core-0.2.1 langsmith-0.1.63"
   ],
   "outputs": [
    {
     "name": "stdout",
     "output_type": "stream",
     "text": [
      "Requirement already satisfied: langchain-openai in /opt/anaconda3/envs/myenv/lib/python3.10/site-packages (0.1.7)\r\n",
      "Requirement already satisfied: langchain-core<0.3,>=0.1.46 in /opt/anaconda3/envs/myenv/lib/python3.10/site-packages (from langchain-openai) (0.2.1)\r\n",
      "Requirement already satisfied: openai<2.0.0,>=1.24.0 in /opt/anaconda3/envs/myenv/lib/python3.10/site-packages (from langchain-openai) (1.30.4)\r\n",
      "Requirement already satisfied: tiktoken<1,>=0.7 in /opt/anaconda3/envs/myenv/lib/python3.10/site-packages (from langchain-openai) (0.7.0)\r\n",
      "Requirement already satisfied: PyYAML>=5.3 in /opt/anaconda3/envs/myenv/lib/python3.10/site-packages (from langchain-core<0.3,>=0.1.46->langchain-openai) (6.0.1)\r\n",
      "Requirement already satisfied: jsonpatch<2.0,>=1.33 in /opt/anaconda3/envs/myenv/lib/python3.10/site-packages (from langchain-core<0.3,>=0.1.46->langchain-openai) (1.33)\r\n",
      "Requirement already satisfied: langsmith<0.2.0,>=0.1.0 in /opt/anaconda3/envs/myenv/lib/python3.10/site-packages (from langchain-core<0.3,>=0.1.46->langchain-openai) (0.1.63)\r\n",
      "Requirement already satisfied: packaging<24.0,>=23.2 in /opt/anaconda3/envs/myenv/lib/python3.10/site-packages (from langchain-core<0.3,>=0.1.46->langchain-openai) (23.2)\r\n",
      "Requirement already satisfied: pydantic<3,>=1 in /opt/anaconda3/envs/myenv/lib/python3.10/site-packages (from langchain-core<0.3,>=0.1.46->langchain-openai) (2.7.1)\r\n",
      "Requirement already satisfied: tenacity<9.0.0,>=8.1.0 in /opt/anaconda3/envs/myenv/lib/python3.10/site-packages (from langchain-core<0.3,>=0.1.46->langchain-openai) (8.3.0)\r\n",
      "Requirement already satisfied: anyio<5,>=3.5.0 in /opt/anaconda3/envs/myenv/lib/python3.10/site-packages (from openai<2.0.0,>=1.24.0->langchain-openai) (4.3.0)\r\n",
      "Requirement already satisfied: distro<2,>=1.7.0 in /opt/anaconda3/envs/myenv/lib/python3.10/site-packages (from openai<2.0.0,>=1.24.0->langchain-openai) (1.9.0)\r\n",
      "Requirement already satisfied: httpx<1,>=0.23.0 in /opt/anaconda3/envs/myenv/lib/python3.10/site-packages (from openai<2.0.0,>=1.24.0->langchain-openai) (0.27.0)\r\n",
      "Requirement already satisfied: sniffio in /opt/anaconda3/envs/myenv/lib/python3.10/site-packages (from openai<2.0.0,>=1.24.0->langchain-openai) (1.3.1)\r\n",
      "Requirement already satisfied: tqdm>4 in /opt/anaconda3/envs/myenv/lib/python3.10/site-packages (from openai<2.0.0,>=1.24.0->langchain-openai) (4.66.4)\r\n",
      "Requirement already satisfied: typing-extensions<5,>=4.7 in /opt/anaconda3/envs/myenv/lib/python3.10/site-packages (from openai<2.0.0,>=1.24.0->langchain-openai) (4.11.0)\r\n",
      "Requirement already satisfied: regex>=2022.1.18 in /opt/anaconda3/envs/myenv/lib/python3.10/site-packages (from tiktoken<1,>=0.7->langchain-openai) (2024.5.15)\r\n",
      "Requirement already satisfied: requests>=2.26.0 in /opt/anaconda3/envs/myenv/lib/python3.10/site-packages (from tiktoken<1,>=0.7->langchain-openai) (2.32.2)\r\n",
      "Requirement already satisfied: idna>=2.8 in /opt/anaconda3/envs/myenv/lib/python3.10/site-packages (from anyio<5,>=3.5.0->openai<2.0.0,>=1.24.0->langchain-openai) (3.7)\r\n",
      "Requirement already satisfied: exceptiongroup>=1.0.2 in /opt/anaconda3/envs/myenv/lib/python3.10/site-packages (from anyio<5,>=3.5.0->openai<2.0.0,>=1.24.0->langchain-openai) (1.2.0)\r\n",
      "Requirement already satisfied: certifi in /opt/anaconda3/envs/myenv/lib/python3.10/site-packages (from httpx<1,>=0.23.0->openai<2.0.0,>=1.24.0->langchain-openai) (2024.2.2)\r\n",
      "Requirement already satisfied: httpcore==1.* in /opt/anaconda3/envs/myenv/lib/python3.10/site-packages (from httpx<1,>=0.23.0->openai<2.0.0,>=1.24.0->langchain-openai) (1.0.5)\r\n",
      "Requirement already satisfied: h11<0.15,>=0.13 in /opt/anaconda3/envs/myenv/lib/python3.10/site-packages (from httpcore==1.*->httpx<1,>=0.23.0->openai<2.0.0,>=1.24.0->langchain-openai) (0.14.0)\r\n",
      "Requirement already satisfied: jsonpointer>=1.9 in /opt/anaconda3/envs/myenv/lib/python3.10/site-packages (from jsonpatch<2.0,>=1.33->langchain-core<0.3,>=0.1.46->langchain-openai) (2.4)\r\n",
      "Requirement already satisfied: orjson<4.0.0,>=3.9.14 in /opt/anaconda3/envs/myenv/lib/python3.10/site-packages (from langsmith<0.2.0,>=0.1.0->langchain-core<0.3,>=0.1.46->langchain-openai) (3.10.3)\r\n",
      "Requirement already satisfied: annotated-types>=0.4.0 in /opt/anaconda3/envs/myenv/lib/python3.10/site-packages (from pydantic<3,>=1->langchain-core<0.3,>=0.1.46->langchain-openai) (0.7.0)\r\n",
      "Requirement already satisfied: pydantic-core==2.18.2 in /opt/anaconda3/envs/myenv/lib/python3.10/site-packages (from pydantic<3,>=1->langchain-core<0.3,>=0.1.46->langchain-openai) (2.18.2)\r\n",
      "Requirement already satisfied: charset-normalizer<4,>=2 in /opt/anaconda3/envs/myenv/lib/python3.10/site-packages (from requests>=2.26.0->tiktoken<1,>=0.7->langchain-openai) (3.3.2)\r\n",
      "Requirement already satisfied: urllib3<3,>=1.21.1 in /opt/anaconda3/envs/myenv/lib/python3.10/site-packages (from requests>=2.26.0->tiktoken<1,>=0.7->langchain-openai) (2.2.1)\r\n"
     ]
    }
   ],
   "execution_count": 50
  },
  {
   "metadata": {
    "ExecuteTime": {
     "end_time": "2024-05-28T23:33:43.576833Z",
     "start_time": "2024-05-28T23:33:42.049973Z"
    }
   },
   "cell_type": "code",
   "source": "llm.invoke(\"Does Grainger use any AI to help customers?\").content",
   "id": "f7ca7ed321d5a290",
   "outputs": [
    {
     "data": {
      "text/plain": [
       "'Yes, Grainger uses AI technology in various ways to help customers. One example is the use of AI-powered chatbots on their website to assist customers with product recommendations, order status inquiries, and general customer service questions. Additionally, Grainger uses AI algorithms to analyze customer data and personalize product recommendations based on past purchases and browsing behavior. This helps customers find relevant products more easily and efficiently.'"
      ]
     },
     "execution_count": 51,
     "metadata": {},
     "output_type": "execute_result"
    }
   ],
   "execution_count": 51
  },
  {
   "metadata": {
    "ExecuteTime": {
     "end_time": "2024-05-28T23:33:44.494074Z",
     "start_time": "2024-05-28T23:33:43.578791Z"
    }
   },
   "cell_type": "code",
   "source": "llm.invoke(\"Who works in Grainger's mobile application team?\")",
   "id": "f28087da7e687952",
   "outputs": [
    {
     "data": {
      "text/plain": [
       "AIMessage(content='The mobile application team at Grainger likely consists of mobile app developers, software engineers, UX/UI designers, product managers, and quality assurance testers.', response_metadata={'token_usage': {'completion_tokens': 29, 'prompt_tokens': 17, 'total_tokens': 46}, 'model_name': 'gpt-3.5-turbo', 'system_fingerprint': None, 'finish_reason': 'stop', 'logprobs': None}, id='run-d97a5e65-36ad-42bc-ba5c-0eaed4672c96-0')"
      ]
     },
     "execution_count": 52,
     "metadata": {},
     "output_type": "execute_result"
    }
   ],
   "execution_count": 52
  },
  {
   "metadata": {
    "ExecuteTime": {
     "end_time": "2024-05-28T23:33:48.078621Z",
     "start_time": "2024-05-28T23:33:44.497422Z"
    }
   },
   "cell_type": "code",
   "source": [
    "!pip install --upgrade langchain\n",
    "# Successfully installed langchain-0.2.1\n",
    "from langchain_core.documents import Document\n",
    "\n"
   ],
   "id": "cd9bc7cb541d582d",
   "outputs": [
    {
     "name": "stdout",
     "output_type": "stream",
     "text": [
      "Requirement already satisfied: langchain in /opt/anaconda3/envs/myenv/lib/python3.10/site-packages (0.2.1)\r\n",
      "Requirement already satisfied: PyYAML>=5.3 in /opt/anaconda3/envs/myenv/lib/python3.10/site-packages (from langchain) (6.0.1)\r\n",
      "Requirement already satisfied: SQLAlchemy<3,>=1.4 in /opt/anaconda3/envs/myenv/lib/python3.10/site-packages (from langchain) (2.0.30)\r\n",
      "Requirement already satisfied: aiohttp<4.0.0,>=3.8.3 in /opt/anaconda3/envs/myenv/lib/python3.10/site-packages (from langchain) (3.9.5)\r\n",
      "Requirement already satisfied: async-timeout<5.0.0,>=4.0.0 in /opt/anaconda3/envs/myenv/lib/python3.10/site-packages (from langchain) (4.0.3)\r\n",
      "Requirement already satisfied: langchain-core<0.3.0,>=0.2.0 in /opt/anaconda3/envs/myenv/lib/python3.10/site-packages (from langchain) (0.2.1)\r\n",
      "Requirement already satisfied: langchain-text-splitters<0.3.0,>=0.2.0 in /opt/anaconda3/envs/myenv/lib/python3.10/site-packages (from langchain) (0.2.0)\r\n",
      "Requirement already satisfied: langsmith<0.2.0,>=0.1.17 in /opt/anaconda3/envs/myenv/lib/python3.10/site-packages (from langchain) (0.1.63)\r\n",
      "Requirement already satisfied: numpy<2,>=1 in /opt/anaconda3/envs/myenv/lib/python3.10/site-packages (from langchain) (1.26.4)\r\n",
      "Requirement already satisfied: pydantic<3,>=1 in /opt/anaconda3/envs/myenv/lib/python3.10/site-packages (from langchain) (2.7.1)\r\n",
      "Requirement already satisfied: requests<3,>=2 in /opt/anaconda3/envs/myenv/lib/python3.10/site-packages (from langchain) (2.32.2)\r\n",
      "Requirement already satisfied: tenacity<9.0.0,>=8.1.0 in /opt/anaconda3/envs/myenv/lib/python3.10/site-packages (from langchain) (8.3.0)\r\n",
      "Requirement already satisfied: aiosignal>=1.1.2 in /opt/anaconda3/envs/myenv/lib/python3.10/site-packages (from aiohttp<4.0.0,>=3.8.3->langchain) (1.3.1)\r\n",
      "Requirement already satisfied: attrs>=17.3.0 in /opt/anaconda3/envs/myenv/lib/python3.10/site-packages (from aiohttp<4.0.0,>=3.8.3->langchain) (23.2.0)\r\n",
      "Requirement already satisfied: frozenlist>=1.1.1 in /opt/anaconda3/envs/myenv/lib/python3.10/site-packages (from aiohttp<4.0.0,>=3.8.3->langchain) (1.4.1)\r\n",
      "Requirement already satisfied: multidict<7.0,>=4.5 in /opt/anaconda3/envs/myenv/lib/python3.10/site-packages (from aiohttp<4.0.0,>=3.8.3->langchain) (6.0.5)\r\n",
      "Requirement already satisfied: yarl<2.0,>=1.0 in /opt/anaconda3/envs/myenv/lib/python3.10/site-packages (from aiohttp<4.0.0,>=3.8.3->langchain) (1.9.4)\r\n",
      "Requirement already satisfied: jsonpatch<2.0,>=1.33 in /opt/anaconda3/envs/myenv/lib/python3.10/site-packages (from langchain-core<0.3.0,>=0.2.0->langchain) (1.33)\r\n",
      "Requirement already satisfied: packaging<24.0,>=23.2 in /opt/anaconda3/envs/myenv/lib/python3.10/site-packages (from langchain-core<0.3.0,>=0.2.0->langchain) (23.2)\r\n",
      "Requirement already satisfied: orjson<4.0.0,>=3.9.14 in /opt/anaconda3/envs/myenv/lib/python3.10/site-packages (from langsmith<0.2.0,>=0.1.17->langchain) (3.10.3)\r\n",
      "Requirement already satisfied: annotated-types>=0.4.0 in /opt/anaconda3/envs/myenv/lib/python3.10/site-packages (from pydantic<3,>=1->langchain) (0.7.0)\r\n",
      "Requirement already satisfied: pydantic-core==2.18.2 in /opt/anaconda3/envs/myenv/lib/python3.10/site-packages (from pydantic<3,>=1->langchain) (2.18.2)\r\n",
      "Requirement already satisfied: typing-extensions>=4.6.1 in /opt/anaconda3/envs/myenv/lib/python3.10/site-packages (from pydantic<3,>=1->langchain) (4.11.0)\r\n",
      "Requirement already satisfied: charset-normalizer<4,>=2 in /opt/anaconda3/envs/myenv/lib/python3.10/site-packages (from requests<3,>=2->langchain) (3.3.2)\r\n",
      "Requirement already satisfied: idna<4,>=2.5 in /opt/anaconda3/envs/myenv/lib/python3.10/site-packages (from requests<3,>=2->langchain) (3.7)\r\n",
      "Requirement already satisfied: urllib3<3,>=1.21.1 in /opt/anaconda3/envs/myenv/lib/python3.10/site-packages (from requests<3,>=2->langchain) (2.2.1)\r\n",
      "Requirement already satisfied: certifi>=2017.4.17 in /opt/anaconda3/envs/myenv/lib/python3.10/site-packages (from requests<3,>=2->langchain) (2024.2.2)\r\n",
      "Requirement already satisfied: greenlet!=0.4.17 in /opt/anaconda3/envs/myenv/lib/python3.10/site-packages (from SQLAlchemy<3,>=1.4->langchain) (3.0.3)\r\n",
      "Requirement already satisfied: jsonpointer>=1.9 in /opt/anaconda3/envs/myenv/lib/python3.10/site-packages (from jsonpatch<2.0,>=1.33->langchain-core<0.3.0,>=0.2.0->langchain) (2.4)\r\n"
     ]
    }
   ],
   "execution_count": 53
  },
  {
   "metadata": {
    "ExecuteTime": {
     "end_time": "2024-05-28T23:33:48.086840Z",
     "start_time": "2024-05-28T23:33:48.081455Z"
    }
   },
   "cell_type": "code",
   "source": [
    "from langchain_core.prompts import ChatPromptTemplate\n",
    "from langchain.chains.combine_documents import create_stuff_documents_chain\n",
    "\n",
    "prompt = ChatPromptTemplate.from_template(\"\"\"Answer the following question based only on the provided context:\n",
    "\n",
    "<context>\n",
    "{context}\n",
    "</context>\n",
    "\n",
    "Question: {input}\"\"\")\n"
   ],
   "id": "c7b84277bb350e7d",
   "outputs": [],
   "execution_count": 54
  },
  {
   "metadata": {
    "ExecuteTime": {
     "end_time": "2024-05-28T23:34:45.047746Z",
     "start_time": "2024-05-28T23:33:48.089501Z"
    }
   },
   "cell_type": "code",
   "source": "!conda install -y langchain==0.1.2",
   "id": "c169ced80ef7e97f",
   "outputs": [
    {
     "name": "stdout",
     "output_type": "stream",
     "text": [
      "Channels:\r\n",
      " - conda-forge\r\n",
      " - defaults\r\n",
      "Platform: osx-64\r\n",
      "Collecting package metadata (repodata.json): done\r\n",
      "Solving environment: done\r\n",
      "\r\n",
      "## Package Plan ##\r\n",
      "\r\n",
      "  environment location: /opt/anaconda3/envs/myenv\r\n",
      "\r\n",
      "  added / updated specs:\r\n",
      "    - langchain==0.1.2\r\n",
      "\r\n",
      "\r\n",
      "The following NEW packages will be INSTALLED:\r\n",
      "\r\n",
      "  langchain          conda-forge/noarch::langchain-0.1.2-pyhd8ed1ab_0 \r\n",
      "  langchain-communi~ conda-forge/noarch::langchain-community-0.0.20-pyhd8ed1ab_0 \r\n",
      "  langchain-core     conda-forge/noarch::langchain-core-0.1.22-pyhd8ed1ab_0 \r\n",
      "\r\n",
      "The following packages will be DOWNGRADED:\r\n",
      "\r\n",
      "  langsmith                             0.1.63-pyhd8ed1ab_0 --> 0.0.83-pyhd8ed1ab_0 \r\n",
      "\r\n",
      "\r\n",
      "\r\n",
      "Downloading and Extracting Packages:\r\n",
      "\r\n",
      "Preparing transaction: done\r\n",
      "Verifying transaction: done\r\n",
      "Executing transaction: done\r\n"
     ]
    }
   ],
   "execution_count": 55
  },
  {
   "metadata": {
    "ExecuteTime": {
     "end_time": "2024-05-28T23:34:45.539379Z",
     "start_time": "2024-05-28T23:34:45.049663Z"
    }
   },
   "cell_type": "code",
   "source": [
    "document_chain = create_stuff_documents_chain(llm, prompt)\n",
    "# Assuming context_text is a string containing the text you want to use as context\n",
    "context_text = \"Susan, Rebecca, Tom\"\n",
    "\n",
    "# Instantiate the Document object and set its page_content attribute\n",
    "context_document = Document(page_content=context_text)\n",
    "\n",
    "# Now you can use context_document in places where a Document object is expected\n",
    "response = document_chain.invoke({\n",
    "    \"input\": \"Who has a male name?\",\n",
    "    \"context\": [context_document]\n",
    "})\n",
    "\n",
    "# Print the response content\n",
    "print(response)\n"
   ],
   "id": "821f0809106d016f",
   "outputs": [
    {
     "name": "stdout",
     "output_type": "stream",
     "text": [
      "Tom\n"
     ]
    }
   ],
   "execution_count": 56
  },
  {
   "metadata": {
    "ExecuteTime": {
     "end_time": "2024-05-28T23:34:46.345528Z",
     "start_time": "2024-05-28T23:34:46.342449Z"
    }
   },
   "cell_type": "code",
   "source": "",
   "id": "c4b25ed56197fb13",
   "outputs": [],
   "execution_count": 57
  }
 ],
 "metadata": {
  "kernelspec": {
   "display_name": "Python 3",
   "language": "python",
   "name": "python3"
  },
  "language_info": {
   "codemirror_mode": {
    "name": "ipython",
    "version": 2
   },
   "file_extension": ".py",
   "mimetype": "text/x-python",
   "name": "python",
   "nbconvert_exporter": "python",
   "pygments_lexer": "ipython2",
   "version": "2.7.6"
  }
 },
 "nbformat": 4,
 "nbformat_minor": 5
}
